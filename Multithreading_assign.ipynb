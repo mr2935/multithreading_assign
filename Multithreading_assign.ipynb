{
 "cells": [
  {
   "cell_type": "markdown",
   "id": "7edb89b7-1ee9-41e7-ac25-3732a849de7e",
   "metadata": {},
   "source": [
    "#QUESTION 1\n",
    "\n",
    "\n",
    "Multithreading in Python refers to the concurrent execution of multiple threads within a single process. A thread is a separate flow of execution that can perform tasks independently while sharing the same memory space.\n",
    "\n",
    "Multithreading is used in Python to achieve parallelism, where multiple threads can execute simultaneously, improving the efficiency of programs that involve tasks that can be performed concurrently. By utilizing multiple threads, a Python program can effectively utilize available system resources and handle multiple tasks concurrently, resulting in improved performance and responsiveness.\n",
    "\n",
    "The module used to handle threads in Python is called \"threading.\" The threading module provides a high-level interface for creating and managing threads in Python. It allows developers to create, start, join, and synchronize threads, as well as handle common threading operations such as thread locking and synchronization mechanisms like locks, conditions, and semaphores."
   ]
  },
  {
   "cell_type": "markdown",
   "id": "87aadf4e-a22f-4f85-bf92-8350d0a7d1da",
   "metadata": {},
   "source": [
    "#QUESTION 2\n",
    "\n",
    "The threading module in Python is used to handle threads and implement multithreading capabilities in Python programs. It provides a high-level interface for creating, managing, and synchronizing threads.\n",
    "\n",
    "-activeCount():\n",
    "\n",
    "The activeCount() function returns the number of Thread objects currently active (alive) in the current Python process.\n",
    "It is useful for tracking the number of active threads and can be used for debugging or monitoring purposes.\n"
   ]
  },
  {
   "cell_type": "code",
   "execution_count": 2,
   "id": "180b3d6a-45cc-4427-bd67-b10d0eb53a2b",
   "metadata": {},
   "outputs": [
    {
     "name": "stdout",
     "output_type": "stream",
     "text": [
      "Active Threads: 8\n"
     ]
    },
    {
     "name": "stderr",
     "output_type": "stream",
     "text": [
      "/tmp/ipykernel_635/3604173408.py:15: DeprecationWarning: activeCount() is deprecated, use active_count() instead\n",
      "  active_threads = threading.activeCount()\n"
     ]
    }
   ],
   "source": [
    "#EXAMPLE\n",
    "import threading\n",
    "\n",
    "# Create multiple threads\n",
    "def my_task():\n",
    "    pass\n",
    "\n",
    "threads = [threading.Thread(target=my_task) for _ in range(5)]\n",
    "\n",
    "# Start the threads\n",
    "for thread in threads:\n",
    "    thread.start()\n",
    "\n",
    "# Get the number of active threads\n",
    "active_threads = threading.activeCount()\n",
    "print(\"Active Threads:\", active_threads)\n"
   ]
  },
  {
   "cell_type": "markdown",
   "id": "34d41778-7610-4bc9-b236-493e9890d12f",
   "metadata": {},
   "source": [
    "-currentThread():\n",
    "\n",
    "The currentThread() function returns the current Thread object corresponding to the caller's thread of execution.\n",
    "It is used to obtain a reference to the currently executing thread.\n",
    "This function is useful for identifying the current thread and accessing its properties or invoking thread-specific operations."
   ]
  },
  {
   "cell_type": "code",
   "execution_count": 3,
   "id": "2d1837a9-cf71-4d65-b75c-242039a0a4ce",
   "metadata": {},
   "outputs": [
    {
     "name": "stdout",
     "output_type": "stream",
     "text": [
      "Current Thread Name: Thread-10 (my_task)\n"
     ]
    },
    {
     "name": "stderr",
     "output_type": "stream",
     "text": [
      "/tmp/ipykernel_635/492277973.py:5: DeprecationWarning: currentThread() is deprecated, use current_thread() instead\n",
      "  current_thread = threading.currentThread()\n"
     ]
    }
   ],
   "source": [
    "#EXAMPLE\n",
    "import threading\n",
    "\n",
    "def my_task():\n",
    "    current_thread = threading.currentThread()\n",
    "    print(\"Current Thread Name:\", current_thread.name)\n",
    "\n",
    "# Create and start a thread\n",
    "my_thread = threading.Thread(target=my_task)\n",
    "my_thread.start()\n"
   ]
  },
  {
   "cell_type": "markdown",
   "id": "062b4811-c304-4b15-8322-d7fc151f46c9",
   "metadata": {},
   "source": [
    "-enumerate():\n",
    "\n",
    "The enumerate() function returns a list of all active Thread objects in the current Python process.\n",
    "It is useful for obtaining a list of all running threads, which can be iterated over for various purposes, such as monitoring or joining them."
   ]
  },
  {
   "cell_type": "code",
   "execution_count": 4,
   "id": "3867b905-d71b-41e8-a6e5-503a35a90a91",
   "metadata": {},
   "outputs": [
    {
     "name": "stdout",
     "output_type": "stream",
     "text": [
      "Active Threads:\n",
      "MainThread\n",
      "IOPub\n",
      "Heartbeat\n",
      "Thread-3 (_watch_pipe_fd)\n",
      "Thread-4 (_watch_pipe_fd)\n",
      "Control\n",
      "IPythonHistorySavingThread\n",
      "Thread-2\n"
     ]
    }
   ],
   "source": [
    "#EXAMPLE\n",
    "\n",
    "import threading\n",
    "\n",
    "def my_task():\n",
    "    pass\n",
    "\n",
    "# Create multiple threads\n",
    "threads = [threading.Thread(target=my_task) for _ in range(5)]\n",
    "\n",
    "# Start the threads\n",
    "for thread in threads:\n",
    "    thread.start()\n",
    "\n",
    "# Enumerate all active threads\n",
    "active_threads = threading.enumerate()\n",
    "print(\"Active Threads:\")\n",
    "for thread in active_threads:\n",
    "    print(thread.name)\n"
   ]
  },
  {
   "cell_type": "markdown",
   "id": "9116de32-fb0d-479b-9db8-c8be15fbf06d",
   "metadata": {},
   "source": [
    "#QUESTION 3\n",
    "\n",
    "The functions  run(), start(), join(), and isAlive(), are methods provided by the Thread class in the threading module. Here's an explanation of each function:\n",
    "\n",
    "-run():\n",
    "\n",
    "The run() function represents the entry point for the thread's execution. It contains the code that will be executed when the thread is started.\n",
    "By subclassing the Thread class and overriding the run() function, you can define the specific task or operations that the thread should perform.\n",
    "The run() function is automatically called when the start() method is invoked on a Thread object.\n",
    "\n",
    "-start():\n",
    "\n",
    "The start() function is used to start the execution of a thread by spawning a new system-level thread and invoking the thread's run() function.\n",
    "It initiates the concurrent execution of the thread, allowing it to perform its designated task.\n",
    "Only the start() method should be used to start a thread, not the run() method directly.\n",
    "\n",
    "-join():\n",
    "\n",
    "The join() function is used to wait for the completion of a thread. It blocks the calling thread until the thread being joined terminates.\n",
    "It is often used to ensure that the main program waits for all threads to finish their execution before proceeding.\n",
    "By using join(), you can synchronize the execution of threads and ensure that the main thread does not terminate before the completion of other threads.\n",
    "\n",
    "-isAlive():\n",
    "\n",
    "The isAlive() function is used to check whether a thread is currently active (alive) or not.\n",
    "It returns a Boolean value indicating the thread's status: True if the thread is active, and False otherwise.\n",
    "This function is useful for determining if a thread has finished its execution or is still running."
   ]
  },
  {
   "cell_type": "code",
   "execution_count": 5,
   "id": "90a989da-f69b-46e6-9b61-2f5652aea951",
   "metadata": {},
   "outputs": [
    {
     "name": "stdout",
     "output_type": "stream",
     "text": [
      "Thread is running\n"
     ]
    }
   ],
   "source": [
    "#example run:\n",
    "import threading\n",
    "\n",
    "class MyThread(threading.Thread):\n",
    "    def run(self):\n",
    "        # Code to be executed by the thread\n",
    "        print(\"Thread is running\")\n",
    "\n",
    "# Create and start the thread\n",
    "my_thread = MyThread()\n",
    "my_thread.start()\n"
   ]
  },
  {
   "cell_type": "code",
   "execution_count": 6,
   "id": "7dffcd18-fdd5-4a5a-9e7d-782b925d6d88",
   "metadata": {},
   "outputs": [
    {
     "name": "stdout",
     "output_type": "stream",
     "text": [
      "Task is being executed by the thread\n"
     ]
    }
   ],
   "source": [
    "#example start\n",
    "import threading\n",
    "\n",
    "def my_task():\n",
    "    # Code for the task to be performed\n",
    "    print(\"Task is being executed by the thread\")\n",
    "\n",
    "# Create a thread and start its execution\n",
    "my_thread = threading.Thread(target=my_task)\n",
    "my_thread.start()\n"
   ]
  },
  {
   "cell_type": "code",
   "execution_count": 7,
   "id": "eed93e50-8afe-4719-9482-2a7135cd0436",
   "metadata": {},
   "outputs": [
    {
     "name": "stdout",
     "output_type": "stream",
     "text": [
      "Task is being executed by the thread\n"
     ]
    }
   ],
   "source": [
    "#example\n",
    "#join\n",
    "import threading\n",
    "\n",
    "def my_task():\n",
    "    # Code for the task to be performed\n",
    "    print(\"Task is being executed by the thread\")\n",
    "\n",
    "# Create and start the thread\n",
    "my_thread = threading.Thread(target=my_task)\n",
    "my_thread.start()\n",
    "\n",
    "# Wait for the thread to finish\n",
    "my_thread.join()\n"
   ]
  },
  {
   "cell_type": "code",
   "execution_count": null,
   "id": "562b19ff-8669-428e-8d04-72723a1bb002",
   "metadata": {},
   "outputs": [],
   "source": [
    "#is alive\n",
    "import threading\n",
    "\n",
    "def my_task():\n",
    "    # Code for the task to be performed\n",
    "    print(\"Task is being executed by the thread\")\n",
    "\n",
    "# Create and start the thread\n",
    "my_thread = threading.Thread(target=my_task)\n",
    "my_thread.start()\n",
    "\n",
    "# Check if the thread is alive\n",
    "if my_thread.isAlive():\n",
    "    print(\"Thread is still running\")\n",
    "else:\n",
    "    print(\"Thread has finished execution\")\n"
   ]
  },
  {
   "cell_type": "markdown",
   "id": "00d62a98-15e4-4910-8fc9-4e4f3aa76983",
   "metadata": {},
   "source": [
    "#question 4\n",
    "import threading\n",
    "\n",
    "def print_squares():\n",
    "    for i in range(1, 11):\n",
    "        square = i ** 2\n",
    "        print(f\"Square of {i}: {square}\")\n",
    "\n",
    "def print_cubes():\n",
    "    for i in range(1, 11):\n",
    "        cube = i ** 3\n",
    "        print(f\"Cube of {i}: {cube}\")\n",
    "\n",
    "# Create the first thread for printing squares\n",
    "thread_squares = threading.Thread(target=print_squares)\n",
    "\n",
    "# Create the second thread for printing cubes\n",
    "thread_cubes = threading.Thread(target=print_cubes)\n",
    "\n",
    "# Start both threads\n",
    "thread_squares.start()\n",
    "thread_cubes.start()\n",
    "\n",
    "# Wait for both threads to finish\n",
    "thread_squares.join()\n",
    "thread_cubes.join()\n",
    "\n"
   ]
  },
  {
   "cell_type": "markdown",
   "id": "f9c1d39f-343e-416c-8483-69517404dd59",
   "metadata": {},
   "source": [
    "#question 5\n",
    "Advantages of Multithreading:\n",
    "\n",
    "-Improved Performance: Multithreading can lead to improved performance by allowing concurrent execution of tasks. It can utilize available system resources more efficiently and increase overall throughput.\n",
    "\n",
    "-Responsiveness: Multithreading enhances the responsiveness of applications by keeping them interactive even while performing time-consuming tasks. Background tasks can be executed in separate threads, ensuring the main thread remains responsive to user interactions.\n",
    "\n",
    "-Resource Sharing: Threads within the same process share the same memory space, allowing for efficient sharing of data and resources. This eliminates the need for complex inter-process communication mechanisms and improves overall efficiency.\n",
    "\n",
    "Disadvantages of Multithreading:\n",
    "\n",
    "-Complexity: Multithreading introduces complexity into program design and implementation. Coordination and synchronization between threads become essential to ensure correct and consistent results, which can be challenging to achieve.\n",
    "\n",
    "-Synchronization Issues: When multiple threads access shared resources simultaneously, synchronization issues like data races and deadlocks can occur. Proper synchronization mechanisms, such as locks and semaphores, must be employed to handle these issues, adding complexity to the code.\n",
    "\n",
    "-Debugging Difficulties: Debugging multithreaded applications can be more challenging than single-threaded ones. Non-deterministic behavior, race conditions, and timing-dependent bugs are harder to reproduce and diagnose, making the debugging process more complex."
   ]
  },
  {
   "cell_type": "markdown",
   "id": "74b2ebcf-b509-4f9e-813c-c8dd74a44d29",
   "metadata": {},
   "source": [
    "#QUESTION 6\n",
    "\n",
    "Deadlocks and race conditions are two common synchronization issues that can occur in concurrent programming. Let's define each of them:\n",
    "\n",
    "1. Deadlock:\n",
    "   - Deadlock refers to a situation where two or more threads or processes are unable to proceed because each is waiting for a resource that the other holds.\n",
    "   - In a deadlock, the threads are stuck in a circular dependency, where each thread is waiting for a resource that will not be released until another thread releases the resource it is holding.\n",
    "   - Deadlocks can occur when there is a lack of proper synchronization or resource management, such as when multiple threads compete for exclusive access to shared resources without proper coordination.\n",
    "   - Deadlocks can lead to a system freeze or a state where the affected threads are unable to make progress, causing a significant disruption in program execution.\n",
    "\n",
    "2. Race Condition:\n",
    "   - A race condition occurs when the behavior of a program depends on the relative timing or interleaving of multiple threads or processes.\n",
    "   - It arises when multiple threads access shared data or resources concurrently, and the final outcome depends on the order of execution.\n",
    "   - Race conditions can lead to unexpected and inconsistent results because the threads can access and modify shared data in an uncontrolled manner.\n",
    "   - These issues can occur when there is a lack of proper synchronization mechanisms to coordinate access to shared resources.\n",
    "   - Common examples of race conditions include problems like data corruption, incorrect calculations, and inconsistent program behavior.\n",
    "\n",
    "Both deadlocks and race conditions are undesirable in concurrent programming and can lead to program failures and unexpected behavior. They require careful consideration and proper synchronization techniques to prevent or mitigate their occurrence.\n",
    "\n",
    "To avoid deadlocks, techniques such as resource allocation ordering, deadlock detection, and deadlock avoidance algorithms can be used. Proper use of locks, semaphores, or other synchronization primitives can help prevent race conditions by ensuring exclusive access to shared resources or implementing proper data synchronization mechanisms.\n",
    "\n",
    "\n"
   ]
  },
  {
   "cell_type": "code",
   "execution_count": null,
   "id": "9d3143a4-0743-4e3d-935d-5096bfd9220c",
   "metadata": {},
   "outputs": [],
   "source": []
  }
 ],
 "metadata": {
  "kernelspec": {
   "display_name": "Python 3 (ipykernel)",
   "language": "python",
   "name": "python3"
  },
  "language_info": {
   "codemirror_mode": {
    "name": "ipython",
    "version": 3
   },
   "file_extension": ".py",
   "mimetype": "text/x-python",
   "name": "python",
   "nbconvert_exporter": "python",
   "pygments_lexer": "ipython3",
   "version": "3.10.8"
  }
 },
 "nbformat": 4,
 "nbformat_minor": 5
}
